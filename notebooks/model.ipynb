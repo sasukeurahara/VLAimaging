{
 "cells": [
  {
   "cell_type": "code",
   "execution_count": 14,
   "id": "0e624a10",
   "metadata": {},
   "outputs": [],
   "source": [
    "import pandas as pd\n",
    "import numpy as np\n",
    "import time\n",
    "import psutil\n",
    "\n",
    "from sklearn.model_selection import train_test_split\n",
    "from sklearn.linear_model import LinearRegression, Ridge, Lasso, ElasticNet, BayesianRidge\n",
    "from sklearn.svm import SVR\n",
    "from sklearn.tree import DecisionTreeRegressor\n",
    "from sklearn.ensemble import RandomForestRegressor, GradientBoostingRegressor\n",
    "from xgboost import XGBRegressor\n",
    "from sklearn.metrics import mean_squared_error, mean_absolute_error, r2_score\n"
   ]
  },
  {
   "cell_type": "code",
   "execution_count": 15,
   "id": "ce2a1acb",
   "metadata": {},
   "outputs": [],
   "source": [
    "df = pd.read_csv('../data/data.csv')\n",
    "df.drop(columns=['ID', 'e_Sint'], inplace=True)\n",
    "df.fillna(df.mean(numeric_only=True), inplace=True)\n",
    "\n",
    "X = df.drop(columns=['Sint'])\n",
    "y = df['Sint']\n",
    "\n",
    "X_train, X_test, y_train, y_test = train_test_split(X, y, test_size=0.2, random_state=42)"
   ]
  },
  {
   "cell_type": "code",
   "execution_count": 16,
   "id": "797cf870",
   "metadata": {},
   "outputs": [],
   "source": [
    "# Define models\n",
    "models = {\n",
    "    \"Linear Regression\": LinearRegression(),\n",
    "    \"Ridge Regression\": Ridge(),\n",
    "    \"Lasso Regression\": Lasso(),\n",
    "    \"ElasticNet Regression\": ElasticNet(),\n",
    "    \"SVR\": SVR(),\n",
    "    \"Decision Tree\": DecisionTreeRegressor(),\n",
    "    \"Random Forest\": RandomForestRegressor(),\n",
    "    \"Gradient Boosting\": GradientBoostingRegressor(),\n",
    "    \"XGBoost\": XGBRegressor(),\n",
    "    \"Bayesian Ridge\": BayesianRidge()\n",
    "}\n"
   ]
  },
  {
   "cell_type": "code",
   "execution_count": 17,
   "id": "fcba4269",
   "metadata": {},
   "outputs": [
    {
     "name": "stdout",
     "output_type": "stream",
     "text": [
      "<class 'pandas.core.frame.DataFrame'>\n",
      "RangeIndex: 5762 entries, 0 to 5761\n",
      "Data columns (total 16 columns):\n",
      " #   Column     Non-Null Count  Dtype  \n",
      "---  ------     --------------  -----  \n",
      " 0   RAdeg      5762 non-null   float64\n",
      " 1   DEdeg      5762 non-null   float64\n",
      " 2   e_RAdeg    5762 non-null   float64\n",
      " 3   e_DEdeg    5762 non-null   float64\n",
      " 4   RApeak     5762 non-null   float64\n",
      " 5   DEpeak     5762 non-null   float64\n",
      " 6   Sint       5762 non-null   float64\n",
      " 7   Speak      5762 non-null   float64\n",
      " 8   e_Speak    5762 non-null   float64\n",
      " 9   rmspeak    5762 non-null   float64\n",
      " 10  e_rmspeak  5762 non-null   float64\n",
      " 11  thetamaj   5762 non-null   float64\n",
      " 12  thetamin   5762 non-null   float64\n",
      " 13  PA         5762 non-null   float64\n",
      " 14  alpha      5762 non-null   float64\n",
      " 15  e_alpha    5762 non-null   float64\n",
      "dtypes: float64(16)\n",
      "memory usage: 720.4 KB\n"
     ]
    }
   ],
   "source": [
    "df.info()"
   ]
  },
  {
   "cell_type": "code",
   "execution_count": 18,
   "id": "787c8ed0",
   "metadata": {},
   "outputs": [],
   "source": [
    "models = {\n",
    "    \"Linear Regression\": LinearRegression(),\n",
    "    \"Ridge Regression\": Ridge(),\n",
    "    \"Lasso Regression\": Lasso(),\n",
    "    \"Random Forest\": RandomForestRegressor(random_state=42)\n",
    "}\n",
    "\n",
    "results = {}\n",
    "\n",
    "for name, model in models.items():\n",
    "    model.fit(X_train, y_train)\n",
    "    y_pred = model.predict(X_test)\n",
    "    mse = mean_squared_error(y_test, y_pred)\n",
    "    r2 = r2_score(y_test, y_pred)\n",
    "    results[name] = {\"MSE\": mse, \"R²\": r2}"
   ]
  },
  {
   "cell_type": "code",
   "execution_count": 19,
   "id": "9d737734",
   "metadata": {},
   "outputs": [
    {
     "name": "stdout",
     "output_type": "stream",
     "text": [
      "\n",
      "Model: Linear Regression\n",
      "R² Score: 0.9445\n",
      "MSE: 6.0014\n",
      "RMSE: 2.4498\n",
      "MAE: 0.6997\n",
      "Inference Time: 0.001121 seconds\n",
      "Training Time: 0.008746 seconds\n",
      "Robustness Analysis: Needs Improvement\n",
      "Scalability Analysis: Fast\n",
      "Energy Analysis: Approx 55.8%\n",
      "Adaptability Analysis: Stable\n",
      "\n",
      "Model: Ridge Regression\n",
      "R² Score: 0.9485\n",
      "MSE: 5.5674\n",
      "RMSE: 2.3595\n",
      "MAE: 0.6433\n",
      "Inference Time: 0.000626 seconds\n",
      "Training Time: 0.001427 seconds\n",
      "Robustness Analysis: Needs Improvement\n",
      "Scalability Analysis: Fast\n",
      "Energy Analysis: Approx 47.1%\n",
      "Adaptability Analysis: Stable\n",
      "\n",
      "Model: Lasso Regression\n",
      "R² Score: 0.9472\n",
      "MSE: 5.7120\n",
      "RMSE: 2.3900\n",
      "MAE: 0.6586\n",
      "Inference Time: 0.000628 seconds\n",
      "Training Time: 0.001744 seconds\n",
      "Robustness Analysis: Needs Improvement\n",
      "Scalability Analysis: Fast\n",
      "Energy Analysis: Approx 52.1%\n",
      "Adaptability Analysis: Stable\n",
      "\n",
      "Model: Random Forest\n",
      "R² Score: 0.9464\n",
      "MSE: 5.7926\n",
      "RMSE: 2.4068\n",
      "MAE: 0.2603\n",
      "Inference Time: 0.019205 seconds\n",
      "Training Time: 3.580269 seconds\n",
      "Robustness Analysis: Good\n",
      "Scalability Analysis: Moderate/Slow\n",
      "Energy Analysis: Approx 0.0%\n",
      "Adaptability Analysis: Stable\n"
     ]
    }
   ],
   "source": [
    "for name, model in models.items():\n",
    "    print(f\"\\nModel: {name}\")\n",
    "\n",
    "    # Train model\n",
    "    start_train = time.time()\n",
    "    model.fit(X_train, y_train)\n",
    "    train_time = time.time() - start_train\n",
    "\n",
    "    # Predict\n",
    "    start_pred = time.time()\n",
    "    y_pred = model.predict(X_test)\n",
    "    inference_time = time.time() - start_pred\n",
    "\n",
    "    # Metrics\n",
    "    mse = mean_squared_error(y_test, y_pred)\n",
    "    rmse = np.sqrt(mse)\n",
    "    mae = mean_absolute_error(y_test, y_pred)\n",
    "    r2 = r2_score(y_test, y_pred)\n",
    "\n",
    "    # Print evaluation\n",
    "    print(f\"R² Score: {r2:.4f}\")\n",
    "    print(f\"MSE: {mse:.4f}\")\n",
    "    print(f\"RMSE: {rmse:.4f}\")\n",
    "    print(f\"MAE: {mae:.4f}\")\n",
    "    print(f\"Inference Time: {inference_time:.6f} seconds\")\n",
    "    print(f\"Training Time: {train_time:.6f} seconds\")\n",
    "\n",
    "    # Mock-up analyses (adjust logic as needed)\n",
    "    robustness = \"Good\" if mae < 0.5 * y.mean() else \"Needs Improvement\"\n",
    "    scalability = \"Fast\" if train_time < 1.0 else \"Moderate/Slow\"\n",
    "    energy_use = f\"Approx {psutil.cpu_percent(interval=0.1)}%\"\n",
    "    adaptability = \"Stable\" if r2 > 0.75 else \"Possibly Overfitting or Underfitting\"\n",
    "\n",
    "    print(f\"Robustness Analysis: {robustness}\")\n",
    "    print(f\"Scalability Analysis: {scalability}\")\n",
    "    print(f\"Energy Analysis: {energy_use}\")\n",
    "    print(f\"Adaptability Analysis: {adaptability}\")"
   ]
  },
  {
   "cell_type": "code",
   "execution_count": null,
   "id": "3c3b58cb",
   "metadata": {},
   "outputs": [],
   "source": []
  }
 ],
 "metadata": {
  "kernelspec": {
   "display_name": "myenv",
   "language": "python",
   "name": "python3"
  },
  "language_info": {
   "codemirror_mode": {
    "name": "ipython",
    "version": 3
   },
   "file_extension": ".py",
   "mimetype": "text/x-python",
   "name": "python",
   "nbconvert_exporter": "python",
   "pygments_lexer": "ipython3",
   "version": "3.10.18"
  }
 },
 "nbformat": 4,
 "nbformat_minor": 5
}

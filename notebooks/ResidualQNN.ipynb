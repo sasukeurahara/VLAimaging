{
 "cells": [
  {
   "cell_type": "code",
   "execution_count": 1,
   "id": "a9cb25ce",
   "metadata": {},
   "outputs": [
    {
     "name": "stderr",
     "output_type": "stream",
     "text": [
      "/home/sasuke/miniconda3/envs/myenv/lib/python3.10/site-packages/tqdm/auto.py:21: TqdmWarning: IProgress not found. Please update jupyter and ipywidgets. See https://ipywidgets.readthedocs.io/en/stable/user_install.html\n",
      "  from .autonotebook import tqdm as notebook_tqdm\n"
     ]
    }
   ],
   "source": [
    "import cudaq\n",
    "import numpy as np\n",
    "import pandas as pd\n",
    "import torch\n",
    "import torch.nn as nn\n",
    "import torch.optim as optim\n",
    "from torch.autograd import Function\n",
    "from sklearn.model_selection import train_test_split\n",
    "from sklearn.metrics import mean_squared_error, mean_absolute_error, r2_score\n",
    "from sklearn.preprocessing import StandardScaler\n",
    "import matplotlib.pyplot as plt\n",
    "import shap\n",
    "from lime.lime_tabular import LimeTabularExplainer\n",
    "     "
   ]
  },
  {
   "cell_type": "code",
   "execution_count": 2,
   "id": "7f970438",
   "metadata": {},
   "outputs": [],
   "source": [
    "cudaq.set_target(\"qpp-cpu\")\n",
    "device = torch.device(\"cuda\" if torch.cuda.is_available() else \"cpu\")"
   ]
  },
  {
   "cell_type": "code",
   "execution_count": 3,
   "id": "beb21e5e",
   "metadata": {},
   "outputs": [],
   "source": [
    "# ---------------------\n",
    "# Quantum Operations\n",
    "# ---------------------\n",
    "def ry(theta, qubit):\n",
    "    cudaq.ry(theta, qubit)\n",
    "\n",
    "def rx(theta, qubit):\n",
    "    cudaq.rx(theta, qubit)"
   ]
  },
  {
   "cell_type": "code",
   "execution_count": 4,
   "id": "e15ce2e3",
   "metadata": {},
   "outputs": [],
   "source": [
    "# ---------------------\n",
    "# Quantum Function\n",
    "# ---------------------\n",
    "class QuantumFunction(Function):\n",
    "    def __init__(self, qubit_count: int, hamiltonian: cudaq.SpinOperator):\n",
    "        @cudaq.kernel\n",
    "        def kernel(qubit_count: int, thetas: np.ndarray):\n",
    "            qubits = cudaq.qvector(qubit_count)\n",
    "            ry(thetas[0], qubits[0])\n",
    "            rx(thetas[1], qubits[0])\n",
    "        self.kernel = kernel\n",
    "        self.qubit_count = qubit_count\n",
    "        self.hamiltonian = hamiltonian\n",
    "\n",
    "    def run(self, theta_vals: torch.Tensor) -> torch.Tensor:\n",
    "        theta_vals_np = theta_vals.cpu().numpy()\n",
    "        qubit_count = [self.qubit_count for _ in range(theta_vals_np.shape[0])]\n",
    "        results = cudaq.observe(self.kernel, self.hamiltonian, qubit_count, theta_vals_np)\n",
    "        exp_vals = [results[i].expectation() for i in range(len(results))]\n",
    "        return torch.tensor(exp_vals, dtype=torch.float32, device=device)\n",
    "\n",
    "    @staticmethod\n",
    "    def forward(ctx, thetas: torch.Tensor, quantum_circuit, shift) -> torch.Tensor:\n",
    "        ctx.shift = shift\n",
    "        ctx.quantum_circuit = quantum_circuit\n",
    "        exp_vals = ctx.quantum_circuit.run(thetas).reshape(-1, 1)\n",
    "        ctx.save_for_backward(thetas, exp_vals)\n",
    "        return exp_vals\n",
    "\n",
    "    @staticmethod\n",
    "    def backward(ctx, grad_output):\n",
    "        thetas, _ = ctx.saved_tensors\n",
    "        gradients = torch.zeros_like(thetas)\n",
    "        for i in range(thetas.shape[1]):\n",
    "            thetas_plus = thetas.clone()\n",
    "            thetas_plus[:, i] += ctx.shift\n",
    "            exp_vals_plus = ctx.quantum_circuit.run(thetas_plus)\n",
    "\n",
    "            thetas_minus = thetas.clone()\n",
    "            thetas_minus[:, i] -= ctx.shift\n",
    "            exp_vals_minus = ctx.quantum_circuit.run(thetas_minus)\n",
    "\n",
    "            gradients[:, i] = (exp_vals_plus - exp_vals_minus) / (2 * ctx.shift)\n",
    "\n",
    "        return gradients * grad_output, None, None\n",
    "\n",
    "# ---------------------\n",
    "# Quantum Layer\n",
    "# ---------------------\n",
    "class QuantumLayer(nn.Module):\n",
    "    def __init__(self, qubit_count: int, hamiltonian, shift: torch.Tensor):\n",
    "        super(QuantumLayer, self).__init__()\n",
    "        self.quantum_circuit = QuantumFunction(qubit_count, hamiltonian)\n",
    "        self.shift = shift\n",
    "\n",
    "    def forward(self, input: torch.Tensor):\n",
    "        return QuantumFunction.apply(input, self.quantum_circuit, self.shift)"
   ]
  },
  {
   "cell_type": "code",
   "execution_count": 5,
   "id": "814e0874",
   "metadata": {},
   "outputs": [],
   "source": [
    "\n",
    "# ----------------------------------\n",
    "#   Residual QNN (Skip Connections)\n",
    "# ----------------------------------\n",
    "class ResidualQNN(nn.Module):\n",
    "    def __init__(self, input_dim):\n",
    "        super(ResidualQNN, self).__init__()\n",
    "        self.fc1 = nn.Linear(input_dim, 256)\n",
    "        self.fc2 = nn.Linear(256, 128)\n",
    "        self.fc3 = nn.Linear(128, 64)\n",
    "\n",
    "        # Skip projection (from dimension 128 -> 64)\n",
    "        self.skip_linear = nn.Linear(128, 64)\n",
    "\n",
    "        # A quantum layer with 4 qubits\n",
    "        self.quantum = QuantumLayer(\n",
    "            qubit_count=4,\n",
    "            hamiltonian=cudaq.spin.z(0),\n",
    "            shift=torch.tensor(torch.pi / 2)\n",
    "        )\n",
    "\n",
    "        # Final output (assuming a single-value regression)\n",
    "        self.fc_out = nn.Linear(1, 2)\n",
    "\n",
    "    def forward(self, x):\n",
    "        # Classical feedforward\n",
    "        x = torch.relu(self.fc1(x))\n",
    "        x = torch.relu(self.fc2(x))\n",
    "\n",
    "        # Residual block: skip from x -> fc3(x)\n",
    "        residual = self.skip_linear(x)\n",
    "        x = torch.relu(self.fc3(x))\n",
    "        x = x + residual\n",
    "        x = self.quantum(x).view(-1, 1)\n",
    "\n",
    "        # Final linear output\n",
    "        x = self.fc_out(x)\n",
    "        return x"
   ]
  },
  {
   "cell_type": "code",
   "execution_count": 6,
   "id": "8a15cdad",
   "metadata": {},
   "outputs": [],
   "source": [
    "import pandas as pd\n",
    "import numpy as np\n",
    "\n",
    "def load_data(path):\n",
    "    data = pd.read_csv(path)\n",
    "    return data\n",
    "\n",
    "dataset_path = \"../data/noalpha.csv\"  # Adjust to your CSV path\n",
    "data = load_data(dataset_path)\n",
    "\n",
    "# Identify only numeric columns\n",
    "numeric_cols = data.select_dtypes(include=[np.number]).columns\n",
    "data[numeric_cols] = data[numeric_cols].fillna(data[numeric_cols].mean())"
   ]
  },
  {
   "cell_type": "code",
   "execution_count": 7,
   "id": "2fa83bf1",
   "metadata": {},
   "outputs": [],
   "source": [
    "from sklearn.preprocessing import StandardScaler\n",
    "from sklearn.model_selection import train_test_split\n",
    "\n",
    "features = ['RAdeg', 'DEdeg', 'e_RAdeg', 'e_DEdeg', 'RApeak',\n",
    "            'DEpeak', 'Sint', 'e_Sint', 'Speak', 'e_Speak', 'rmspeak', 'e_rmspeak', 'PA']\n",
    "\n",
    "target = ['thetamaj', 'thetamin']\n",
    "\n",
    "X = data[features].values\n",
    "y = data[target].values  # shape: (5762, 2)\n",
    "\n",
    "# Normalize\n",
    "scaler_X = StandardScaler()\n",
    "scaler_y = StandardScaler()\n",
    "\n",
    "X = scaler_X.fit_transform(X)\n",
    "y = scaler_y.fit_transform(y)  # keep it 2D for multi-output regression\n",
    "\n",
    "# Convert to torch tensors\n",
    "X = torch.tensor(X, dtype=torch.float32).to(device)\n",
    "y = torch.tensor(y, dtype=torch.float32).to(device)\n",
    "\n",
    "# Train-test split\n",
    "X_train, X_test, y_train, y_test = train_test_split(\n",
    "    X,\n",
    "    y,\n",
    "    test_size=0.1,\n",
    "    random_state=42\n",
    ")\n"
   ]
  },
  {
   "cell_type": "code",
   "execution_count": 8,
   "id": "eaac5726",
   "metadata": {},
   "outputs": [
    {
     "name": "stdout",
     "output_type": "stream",
     "text": [
      "Epoch 1/5, Loss: 1.013362, Std Dev: 0.000000\n",
      "Epoch 2/5, Loss: 1.008444, Std Dev: 0.002459\n",
      "Epoch 3/5, Loss: 0.998027, Std Dev: 0.006393\n",
      "Epoch 4/5, Loss: 0.986318, Std Dev: 0.010386\n",
      "Epoch 5/5, Loss: 0.975075, Std Dev: 0.014083\n"
     ]
    }
   ],
   "source": [
    "# ---------------------\n",
    "#   Training\n",
    "# ---------------------\n",
    "model = ResidualQNN(input_dim=len(features)).to(device)\n",
    "optimizer = optim.Adam(model.parameters(), lr=0.001)\n",
    "loss_function = nn.MSELoss().to(device)\n",
    "\n",
    "epochs = 5\n",
    "losses = []\n",
    "\n",
    "for epoch in range(epochs):\n",
    "    model.train()\n",
    "    optimizer.zero_grad()\n",
    "\n",
    "    y_hat_train = model(X_train)\n",
    "    loss = loss_function(y_hat_train, y_train)  # No squeeze\n",
    "\n",
    "    loss.backward()\n",
    "    optimizer.step()\n",
    "\n",
    "    losses.append(loss.item())\n",
    "    std_loss = np.std(losses)\n",
    "    print(f\"Epoch {epoch + 1}/{epochs}, Loss: {loss.item():.6f}, Std Dev: {std_loss:.6f}\")\n"
   ]
  },
  {
   "cell_type": "code",
   "execution_count": 10,
   "id": "286194f8",
   "metadata": {},
   "outputs": [],
   "source": [
    "# ---------------------\n",
    "#   Evaluation\n",
    "# ---------------------\n",
    "model.eval()\n",
    "with torch.no_grad():\n",
    "    y_hat_test = model(X_test)\n",
    "\n",
    "# Convert torch tensors -> NumPy arrays\n",
    "y_test_np = y_test.detach().cpu().numpy()\n",
    "y_hat_test_np = y_hat_test.detach().cpu().numpy()\n",
    "\n",
    "# Now pass these arrays to the scikit-learn functions\n",
    "r2_score_value = -r2_score(y_test_np, y_hat_test_np)\n",
    "mae_score_value = mean_absolute_error(y_test_np, y_hat_test_np)\n",
    "rmse_score_value = np.sqrt(mean_squared_error(y_test_np, y_hat_test_np))\n",
    "mse_score_value = mean_squared_error(y_test_np, y_hat_test_np)\n",
    "\n",
    "# Then you can safely do your alpha computation\n",
    "y_max = y_test_np.max()\n",
    "y_min = y_test_np.min()\n",
    "alpha = y_max - y_min\n",
    "\n",
    "mae_accuracy = (1 - mae_score_value / alpha) * 100\n",
    "rmse_accuracy = (1 - rmse_score_value / alpha) * 100\n",
    "mse_accuracy = (1 - mse_score_value / alpha) * 100\n"
   ]
  },
  {
   "cell_type": "code",
   "execution_count": 11,
   "id": "bf685d1c",
   "metadata": {},
   "outputs": [
    {
     "name": "stdout",
     "output_type": "stream",
     "text": [
      "\n",
      "--- Evaluation Metrics ---\n",
      "R^2 Score: 0.0308\n",
      "MAE: 0.6642 | Accuracy: 94.95%\n",
      "RMSE: 1.0159 | Accuracy: 92.28%\n",
      "MSE:  1.0320 | Accuracy: 92.16%\n"
     ]
    }
   ],
   "source": [
    "print(\"\\n--- Evaluation Metrics ---\")\n",
    "print(f\"R^2 Score: {-r2_score_value:.4f}\")\n",
    "print(f\"MAE: {mae_score_value:.4f} | Accuracy: {mae_accuracy:.2f}%\")\n",
    "print(f\"RMSE: {rmse_score_value:.4f} | Accuracy: {rmse_accuracy:.2f}%\")\n",
    "print(f\"MSE:  {mse_score_value:.4f} | Accuracy: {mse_accuracy:.2f}%\")"
   ]
  },
  {
   "cell_type": "code",
   "execution_count": 15,
   "id": "1b1e7d53",
   "metadata": {},
   "outputs": [
    {
     "name": "stdout",
     "output_type": "stream",
     "text": [
      "Model Size: 0.206 MB\n"
     ]
    }
   ],
   "source": [
    "import os\n",
    "import tempfile\n",
    "import torch\n",
    "with tempfile.NamedTemporaryFile(delete=False, suffix=\".pt\") as tmp_file:\n",
    "    torch.save(model.state_dict(), tmp_file.name)\n",
    "    model_size_mb = os.path.getsize(tmp_file.name) / (1024 * 1024)  # bytes to MB\n",
    "    os.remove(tmp_file.name)  # Clean up\n",
    "\n",
    "print(f\"Model Size: {model_size_mb:.3f} MB\")"
   ]
  },
  {
   "cell_type": "code",
   "execution_count": null,
   "id": "c224849b",
   "metadata": {},
   "outputs": [],
   "source": []
  }
 ],
 "metadata": {
  "kernelspec": {
   "display_name": "myenv",
   "language": "python",
   "name": "python3"
  },
  "language_info": {
   "codemirror_mode": {
    "name": "ipython",
    "version": 3
   },
   "file_extension": ".py",
   "mimetype": "text/x-python",
   "name": "python",
   "nbconvert_exporter": "python",
   "pygments_lexer": "ipython3",
   "version": "3.10.18"
  }
 },
 "nbformat": 4,
 "nbformat_minor": 5
}
